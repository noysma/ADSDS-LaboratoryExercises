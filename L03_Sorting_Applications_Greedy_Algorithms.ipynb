{
 "cells": [
  {
   "attachments": {},
   "cell_type": "markdown",
   "metadata": {},
   "source": [
    "**Author**: Ismaele Gorgoglione"
   ]
  },
  {
   "attachments": {},
   "cell_type": "markdown",
   "metadata": {},
   "source": [
    "### Exercise: Activity Selection Problem\n",
    "Activity selection problem is a problem in which a person has a list of works to do. \n",
    "\n",
    "Each of the activities has a starting time and ending time. \n",
    "\n",
    "We need to schedule the activities in such a way the person can complete a maximum number of activities. \n",
    "\n",
    "Since the timing of the activities  may overlap, so it might not be possible to complete all the activities and thus we need to schedule the activities in such a way that the maximum number of activities can be finished."
   ]
  },
  {
   "cell_type": "code",
   "execution_count": 1,
   "metadata": {
    "ExecuteTime": {
     "end_time": "2023-04-03T09:17:53.304497Z",
     "start_time": "2023-04-03T09:17:31.751365Z"
    },
    "tags": []
   },
   "outputs": [],
   "source": [
    "def ActivitySelection(activities):\n",
    "    activities.sort(key = lambda x: x[1])  # sort activities by finishing time\n",
    "    selected = [] \n",
    "    for cur_act in activities:\n",
    "        if len(selected) == 0 or cur_act[0] >= selected[-1][1]:\n",
    "            selected.append(cur_act)                             \n",
    "    return selected"
   ]
  },
  {
   "cell_type": "code",
   "execution_count": 2,
   "metadata": {},
   "outputs": [],
   "source": [
    "# Check the implementation\n",
    "A = [(4,6),(0,2),(1,3),(1,6),(3,4)]\n",
    "assert ActivitySelection(A) == [(0, 2), (3, 4), (4, 6)], \"Fail!\""
   ]
  },
  {
   "attachments": {},
   "cell_type": "markdown",
   "metadata": {},
   "source": [
    "---\n",
    "\n",
    "### Exercise: Fractional Knapsack Problem\n",
    "\n",
    "*We are given $n$ items. Each item $i$ has a value $v_i$ and a weight $w_i$. We need put a subset of these items in a knapsack of capacity $W$ to get the maximum total value in the knapsack.*\n",
    "\n",
    "\n",
    "\n",
    "In the 0-1 Knapsack problem, we are not allowed to break items. We either take the whole item or do not take it.\n",
    "\n",
    "In Fractional Knapsack, we can break items for maximizing the total value of knapsack.\n",
    "\n",
    "\n",
    "As an example, consider three items: $v = \\{ 60, 100, 120\\}$ and $w = \\{10, 20, 30\\}$ and a knapsack of capacity $W = 50$.\n",
    "\n",
    "The maximum possible value is $240$ obtained by taking full items of $10$ and $20$ and $2/3$rd of last item of $30$.\n",
    "\n",
    "An efficient solution to find an optimal selection is to use the greedy approach.\n",
    "\n",
    "The basic idea of greedy approach is to calculate the ratio value/weight for each item and sort items in decreasing order of this ratio. Then, we take the item with highest ratio and add them until we cannot add the next item as whole and at the end add the next item as much as we can.\n",
    "\n",
    "This strategy always obtains an optimal solution of this problem.\n",
    "\n",
    "To see why associate a rectangle to each item. The rectangle of item $i$ has a\n",
    "base of size $w_i$ and a height of size $v_i$. The diagonal of this rectangle\n",
    "is a segment of slope $v_i/w_i$.\n",
    "\n",
    "Consider now any selection of items whose total weight equals $W$.\n",
    "\n",
    "We can sort the selected items in order of their ratio and draw the diagonals of their rectangles, one after the other.\n",
    "\n",
    "There cannot exist any assignment whose drawn is above the one of the greedy selection.\n",
    "\n",
    "\n",
    "Instead, 0-1 Knapsack problem is NP-Hard."
   ]
  },
  {
   "attachments": {},
   "cell_type": "markdown",
   "metadata": {},
   "source": [
    "**Your goal:**\n",
    "Write a function ```fractional_knapsack(L,W)``` which takes a list L of pairs *(value, weight)* and the capacity $W$ and returns maximum possible value we can obtain by selecting items.  "
   ]
  },
  {
   "cell_type": "code",
   "execution_count": 3,
   "metadata": {
    "tags": []
   },
   "outputs": [],
   "source": [
    "def fractional_knapsack(L, W):\n",
    "    \n",
    "    L = sorted(L, key = lambda x: x[0]/x[1], reverse=True) # sort item in descending order if theur value-to-weight ratio\n",
    "    \n",
    "    final = 0\n",
    "    for value, weight in L:\n",
    "        if weight <= W:\n",
    "            W -= weight # W is the remaining capacity of the knapsack\n",
    "            final += value\n",
    "        else:\n",
    "            final += value * (W/weight)\n",
    "            break\n",
    "    \n",
    "    return final"
   ]
  },
  {
   "cell_type": "code",
   "execution_count": 4,
   "metadata": {
    "tags": []
   },
   "outputs": [],
   "source": [
    "## Implementation test\n",
    "\n",
    "L = [(60, 10), (100, 20), (120, 30)]\n",
    "\n",
    "assert fractional_knapsack(L, 50) == 240.0, \"Fail!\"\n",
    "\n",
    "L = [(30, 5), (40, 10), (45, 15), (77, 22), (90, 25)]\n",
    "\n",
    "assert fractional_knapsack(L, 60) == 230.0, \"Fail!\"\n",
    "\n",
    "assert fractional_knapsack(L, 15) == 70.0,  \"Fail!\"\n",
    "\n",
    "assert fractional_knapsack(L, 10) == 50.0,  \"Fail!\""
   ]
  },
  {
   "cell_type": "code",
   "execution_count": null,
   "metadata": {},
   "outputs": [],
   "source": []
  }
 ],
 "metadata": {
  "kernelspec": {
   "display_name": "Python 3 (ipykernel)",
   "language": "python",
   "name": "python3"
  },
  "language_info": {
   "codemirror_mode": {
    "name": "ipython",
    "version": 3
   },
   "file_extension": ".py",
   "mimetype": "text/x-python",
   "name": "python",
   "nbconvert_exporter": "python",
   "pygments_lexer": "ipython3",
   "version": "3.8.15"
  },
  "latex_envs": {
   "LaTeX_envs_menu_present": true,
   "autoclose": false,
   "autocomplete": true,
   "bibliofile": "biblio.bib",
   "cite_by": "apalike",
   "current_citInitial": 1,
   "eqLabelWithNumbers": true,
   "eqNumInitial": 1,
   "hotkeys": {
    "equation": "Ctrl-E",
    "itemize": "Ctrl-I"
   },
   "labels_anchors": false,
   "latex_user_defs": false,
   "report_style_numbering": false,
   "user_envs_cfg": false
  },
  "varInspector": {
   "cols": {
    "lenName": 16,
    "lenType": 16,
    "lenVar": 40
   },
   "kernels_config": {
    "python": {
     "delete_cmd_postfix": "",
     "delete_cmd_prefix": "del ",
     "library": "var_list.py",
     "varRefreshCmd": "print(var_dic_list())"
    },
    "r": {
     "delete_cmd_postfix": ") ",
     "delete_cmd_prefix": "rm(",
     "library": "var_list.r",
     "varRefreshCmd": "cat(var_dic_list()) "
    }
   },
   "types_to_exclude": [
    "module",
    "function",
    "builtin_function_or_method",
    "instance",
    "_Feature"
   ],
   "window_display": false
  }
 },
 "nbformat": 4,
 "nbformat_minor": 4
}
