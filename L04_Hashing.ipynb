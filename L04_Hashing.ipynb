{
 "cells": [
  {
   "attachments": {},
   "cell_type": "markdown",
   "metadata": {},
   "source": [
    "**Author**: Ismaele Gorgoglione"
   ]
  },
  {
   "attachments": {},
   "cell_type": "markdown",
   "metadata": {},
   "source": [
    "## Hashing"
   ]
  },
  {
   "cell_type": "code",
   "execution_count": 1,
   "metadata": {
    "tags": []
   },
   "outputs": [],
   "source": [
    "## Define some function useful for testing\n",
    "import random\n",
    "\n",
    "## generate an array of n random integers up to b\n",
    "def get_random_array(n, b = 50):\n",
    "    return [random.randint(0, b) for _ in range(n)]"
   ]
  },
  {
   "attachments": {},
   "cell_type": "markdown",
   "metadata": {},
   "source": [
    "---\n",
    "\n",
    "### Open Addressing with linear probing\n",
    "\n",
    "[Open addressing](https://en.wikipedia.org/wiki/Open_addressing) is a collision resolution technique used for handling collisions in hashing. \n",
    "\n",
    "All the items are stored in a table of size $\\alpha n$, where $n$ is the number of keys and $\\alpha > 1$ is the load factor.\n",
    "\n",
    "Initially, the table contains only a special value ```None``` which says that the entry is empty. Another \n",
    "special value, say character ```'D'``` is used to mark a entry that contained a key that has been deleted.\n",
    "\n",
    "A hash functon $h()$ is used to specify the order of entries to probe for a key to be inserted/searched/deleted. \n",
    "We start by probing $h(k)$ and, with linear probing, the sequence of probes $S(k)$ is $h(k), h(k)+1, h(k)+2, \\ldots$ , modulo $\\alpha n$.\n",
    "\n",
    "- **Insert** adds the key in the first empty slot that we found with positions in $S(k)$.\n",
    "- **Lookup** is performed by checking positions in $S(k)$ until we find either the key or ```None```.\n",
    "- **Delete** is performed by first sesrching the key and then by replacing it with ```'D'```. Why don't we use ```None``` instead? "
   ]
  },
  {
   "attachments": {},
   "cell_type": "markdown",
   "metadata": {},
   "source": [
    "### Exercise: Open Addressing with linear probing\n",
    "Complete the implementation below by implementing ```Lookup``` and ```Delete```.\n",
    "\n",
    "\n",
    "**Optional:** Try to implement quadratic probing. This is the technique employed by Python's set and dictionary. **Note:** not all the value of $c_1$ and $c_2$ are correct. If you generate them at random, for some of them you'll not be able to insert all the key and you'll get a random loop even if the code is correct. "
   ]
  },
  {
   "cell_type": "code",
   "execution_count": 2,
   "metadata": {
    "tags": []
   },
   "outputs": [],
   "source": [
    "class linear_probing_set:\n",
    "    def __init__(self, size):\n",
    "        \n",
    "        self.T = [None]*size\n",
    "        self.prime = 993319\n",
    "        self.a = random.randint(2, self.prime-1)\n",
    "        self.b = random.randint(2, self.prime-1)\n",
    "        self.n_keys = 0\n",
    "    \n",
    "    def insert(self, key): # fix len(T) < self.n_keys if you want\n",
    "        if self.lookup(key):\n",
    "            return\n",
    "        h = self.hash(key)\n",
    "        while self.T[h] != None and self.T[h] != 'D':\n",
    "            h += 1\n",
    "            if h == len(self.T):\n",
    "                h = 0\n",
    "        self.T[h] = key\n",
    "        self.n_keys += 1\n",
    "    \n",
    "    # Return True if key is in the set, False otherwise\n",
    "    def lookup(self, key):\n",
    "        h = self.hash(key)\n",
    "        while self.T[h] != None:\n",
    "            if self.T[h] == key:\n",
    "                return True\n",
    "            h += 1\n",
    "            if h == len(self.T):\n",
    "                h = 0\n",
    "        return False\n",
    "\n",
    "    def delete(self, key):\n",
    "        h = self.hash(key)\n",
    "        while self.T[h] != None:\n",
    "            if self.T[h] == key:\n",
    "                self.T[h] = 'D'\n",
    "                self.n_keys -= 1\n",
    "            h += 1\n",
    "            if h == len(self.T):\n",
    "                h == 0\n",
    "        return False\n",
    "\n",
    "    def hash(self, key):\n",
    "        return ((self.a*key + self.b) % self.prime) % len(self.T)\n",
    "    \n",
    "    def len(self):\n",
    "        return self.n_keys"
   ]
  },
  {
   "cell_type": "code",
   "execution_count": 3,
   "metadata": {},
   "outputs": [],
   "source": [
    "## Implementation test\n",
    "\n",
    "n = 10000\n",
    "\n",
    "a = get_random_array(n, n)\n",
    "\n",
    "queries = get_random_array(n, n)\n",
    "\n",
    "lp_set = linear_probing_set(2*n)\n",
    "std_set = set()\n",
    "\n",
    "for key in a:\n",
    "    lp_set.insert(key)\n",
    "    std_set.add(key)\n",
    "\n",
    "assert len(std_set) == lp_set.len(), \"Fail len!\"     \n",
    "    \n",
    "for key in a:\n",
    "    assert lp_set.lookup(key) == True, \"Lookup fail a\"\n",
    "  \n",
    "for key in queries:\n",
    "    assert lp_set.lookup(key) == (key in std_set), \"Lookup fail queries\"\n",
    "    \n",
    "for key in a[:300]:\n",
    "    lp_set.delete(key)\n",
    "    try:\n",
    "        std_set.remove(key)\n",
    "    except:\n",
    "        pass # the key has been already removed\n",
    "          \n",
    "    assert lp_set.lookup(key) == (key in std_set), \"Lookup fail delete\"    \n"
   ]
  },
  {
   "cell_type": "code",
   "execution_count": 4,
   "metadata": {},
   "outputs": [
    {
     "name": "stdout",
     "output_type": "stream",
     "text": [
      "6.85 ms ± 1.42 ms per loop (mean ± std. dev. of 7 runs, 100 loops each)\n",
      "626 µs ± 47 µs per loop (mean ± std. dev. of 7 runs, 1,000 loops each)\n"
     ]
    }
   ],
   "source": [
    "%timeit for key in queries: lp_set.lookup(key)\n",
    "    \n",
    "%timeit for key in queries: key in std_set"
   ]
  },
  {
   "attachments": {},
   "cell_type": "markdown",
   "metadata": {},
   "source": [
    "----\n",
    "### Hashing with Chains\n",
    "Instead of just storing the elements in the slots in the table $T$, let every slot be a list which contains all the elements which are in the table and map to that slot. Our operations now become:\n",
    "\n",
    "- `Insert` $(k)$: hash $k$ to an index $i$ in the table. You may want to check if $k$ is already in the set first.\n",
    "- `Lookup` $(k)$: search for $k$ in the list by iterating through all the list.\n",
    "- `Delete` $(k)$: search for $k$ and then remove it from the list.\n",
    "\n",
    "Lookup and Delete takes $O(s)$ time where $s$ is the size of the list. We define $\\alpha = \\frac{n}{m}$ as the **load factor**. If we assume simple uniform hashing, then each element has equal probability to go into any slot. So after $n$ independent elements have been inserted we have and expected length of $\\frac{n}{m} = \\alpha$ for each chain by linearity of expectation. So the run time of all the above operations is time to hash + time to do these operations which is $O(1 + \\alpha)$."
   ]
  },
  {
   "attachments": {},
   "cell_type": "markdown",
   "metadata": {},
   "source": [
    "### Exercise: Hashing with Chains\n",
    "Complete the implementation below by implementing ```Lookup``` and ```Delete```."
   ]
  },
  {
   "cell_type": "code",
   "execution_count": 5,
   "metadata": {},
   "outputs": [],
   "source": [
    "class chaining_set:\n",
    "    def __init__(self, size):\n",
    "        \n",
    "        self.T = []\n",
    "        for _ in range(size):\n",
    "            self.T.append([])\n",
    "        \n",
    "        self.prime = 993319\n",
    "        self.a = random.randint(2, self.prime-1)\n",
    "        self.b = random.randint(2, self.prime-1)\n",
    "        self.n_keys = 0\n",
    "        \n",
    "    def insert(self, key):\n",
    "        if self.lookup(key):\n",
    "            return\n",
    "        \n",
    "        h = self.hash(key)\n",
    "        self.T[h].append( key )\n",
    "        self.n_keys += 1\n",
    "    \n",
    "    # return True if key is in the set, False otherwise\n",
    "    def lookup(self, key):\n",
    "        h = self.hash(key)\n",
    "        for i in range(len(self.T[h])):\n",
    "            if self.T[h][i] == key:\n",
    "                return True\n",
    "        return False\n",
    "    \n",
    "    def delete(self, key):\n",
    "        h = self.hash(key)\n",
    "        for i in range(len(self.T[h])):\n",
    "            if self.T[h][i] == key:\n",
    "                self.T[h][i], self.T[h][-1] = self.T[h][-1], self.T[h][i] # swap the key with the last key in the list\n",
    "                self.T[h].pop()\n",
    "                self.n_keys -= 1\n",
    "                break\n",
    "            \n",
    "    def hash(self, key):\n",
    "        return ((self.a*key + self.b) % self.prime) % len(self.T)\n",
    "    \n",
    "    def len(self):\n",
    "        return self.n_keys"
   ]
  },
  {
   "cell_type": "code",
   "execution_count": 6,
   "metadata": {},
   "outputs": [],
   "source": [
    "## Implementation test\n",
    "\n",
    "n = 10000\n",
    "\n",
    "a = get_random_array(n, n)\n",
    "\n",
    "queries = get_random_array(n, n)\n",
    "\n",
    "c_set = chaining_set(2*n)\n",
    "std_set = set()\n",
    "\n",
    "for key in a:\n",
    "    c_set.insert(key)\n",
    "    std_set.add(key)\n",
    "\n",
    "assert len(std_set) == c_set.len(), \"Fail len!\"     \n",
    "    \n",
    "for key in a:\n",
    "    assert c_set.lookup(key) == True, \"Lookup fail a\"\n",
    "  \n",
    "for key in queries:\n",
    "    assert c_set.lookup(key) == (key in std_set), \"Lookup fail queries\"\n",
    "    \n",
    "for key in a[:300]:\n",
    "    c_set.delete(key)\n",
    "    try:\n",
    "        std_set.remove(key)\n",
    "    except:\n",
    "        pass # the key has been already removed\n",
    "          \n",
    "    assert c_set.lookup(key) == (key in std_set), \"Lookup fail delete\"  "
   ]
  },
  {
   "cell_type": "code",
   "execution_count": 7,
   "metadata": {},
   "outputs": [
    {
     "name": "stdout",
     "output_type": "stream",
     "text": [
      "9.24 ms ± 452 µs per loop (mean ± std. dev. of 7 runs, 100 loops each)\n",
      "641 µs ± 78.4 µs per loop (mean ± std. dev. of 7 runs, 1,000 loops each)\n"
     ]
    }
   ],
   "source": [
    "%timeit for key in queries: c_set.lookup(key)\n",
    "    \n",
    "%timeit for key in queries: key in std_set"
   ]
  },
  {
   "attachments": {},
   "cell_type": "markdown",
   "metadata": {},
   "source": [
    "----\n",
    "\n",
    "### Exercise: Dictionary\n",
    "Modify the previous code (i.e., Hashing with Chains) to implement a dictionary, i.e., store a value together with each key. \n",
    "You need to implement methods:\n",
    "- ```Insert(key, value)```: insert the key with its value. If the key was already present, change its value;\n",
    "- ```Delete(key)```: remove the key;\n",
    "- ```Lookup(key)```: return True if the key is present, False otherwise;\n",
    "- ```Value(key)```: return the value associated with the key. It returns None, if the key is not present.\n",
    "\n",
    "I suggest to store pairs (key, value) within the lists.\n",
    "\n",
    "\n",
    "**Optional**. \n",
    "Implement ```keys()```, ```values()```, and ```items()``` which allows you to iterate over keys, values, and pairs (key, value) respectively. You have to use ```yield``` to implement each generator.  "
   ]
  },
  {
   "cell_type": "code",
   "execution_count": 8,
   "metadata": {},
   "outputs": [],
   "source": [
    "class chaining_dict:\n",
    "    def __init__(self, size):\n",
    "        \n",
    "        self.T = []\n",
    "        for _ in range(size):\n",
    "            self.T.append([])\n",
    "        \n",
    "        self.prime = 993319\n",
    "        self.a = random.randint(2, self.prime-1)\n",
    "        self.b = random.randint(2, self.prime-1)\n",
    "        self.n_keys = 0\n",
    "        \n",
    "    def insert(self, key, value): # for each hash we will have a tuple (key, val)\n",
    "        h = self.hash(key)\n",
    "        for i, tup in enumerate(self.T[h]):\n",
    "            if tup[0] == key:\n",
    "                self.T[h][i] = (key, value)\n",
    "                return\n",
    "        self.T[h].append((key, value))\n",
    "        self.n_keys += 1\n",
    "    \n",
    "    def lookup(self, key):\n",
    "        h = self.hash(key)\n",
    "        for tup in self.T[h]:\n",
    "            if tup[0] == key:\n",
    "                return True\n",
    "        return False\n",
    "    \n",
    "    def delete(self, key):\n",
    "        h = self.hash(key)\n",
    "        for i, tup in enumerate(self.T[h]):\n",
    "            if tup[0] == key:\n",
    "                self.T[h][i], self.T[h][-1] = self.T[h][-1], self.T[h][i]\n",
    "                self.T[h].pop()\n",
    "                self.n_keys -= 1\n",
    "                break\n",
    "\n",
    "    def value(self, key):\n",
    "        h = self.hash(key)\n",
    "        for tup in self.T[h]:\n",
    "            if tup[0] == key:\n",
    "                return tup[1]\n",
    "        return None\n",
    "\n",
    "    def hash(self, key):\n",
    "        return ((self.a*key + self.b) % self.prime) % len(self.T)\n",
    "    \n",
    "    def len(self):\n",
    "        return self.n_keys\n",
    "    \n",
    "# OPTIONAL \n",
    "    def keys(self):\n",
    "        for el in self.T:\n",
    "            if len(el):\n",
    "                for tup in el:\n",
    "                    yield tup[0]\n",
    "                    \n",
    "    def values(self):\n",
    "        for el in self.T:\n",
    "            if len(el):\n",
    "                for tup in el:\n",
    "                    yield tup[1]\n",
    "\n",
    "    def items(self):\n",
    "        for el in self.T:\n",
    "            if len(el):\n",
    "                for tup in el:\n",
    "                    yield tup[0], tup[1]      "
   ]
  },
  {
   "cell_type": "code",
   "execution_count": 9,
   "metadata": {},
   "outputs": [],
   "source": [
    "## Implementation test\n",
    "\n",
    "n = 10000\n",
    "\n",
    "keys = get_random_array(n, n)\n",
    "values = get_random_array(n, n)\n",
    "a = list(zip(keys, values))\n",
    "\n",
    "c_dic = chaining_dict(2*n)\n",
    "std_dic = dict()\n",
    "\n",
    "for key, value in a:\n",
    "    c_dic.insert(key, value)\n",
    "    std_dic[key] = value\n",
    "\n",
    "assert len(std_dic) == c_dic.len(), \"Fail len!\"     \n",
    "    \n",
    "for key in keys:\n",
    "    assert c_dic.lookup(key) == True, \"Lookup fail a\"\n",
    "\n",
    "for key in keys:\n",
    "    assert c_dic.lookup(key) == (key in std_dic), \"Lookup fail queries\"\n",
    "    \n",
    "for key in keys[:300]:\n",
    "    c_dic.delete(key)\n",
    "    try:\n",
    "        std_dic.pop(key)\n",
    "    except:\n",
    "        pass # the key has been already removed\n",
    "          \n",
    "    assert c_dic.lookup(key) == (key in std_dic), \"Lookup fail delete\"  "
   ]
  },
  {
   "cell_type": "code",
   "execution_count": 10,
   "metadata": {},
   "outputs": [],
   "source": [
    "# Testing the optional part\n",
    "k = list(c_dic.keys())\n",
    "v = list(c_dic.values())\n",
    "\n",
    "assert len(std_dic.keys()) == len(k), \"Fail keys len!\"\n",
    "assert len(std_dic.values()) == len(v), \"Fail values len!\"\n",
    "\n",
    "assert sorted(k) == sorted(std_dic.keys()), \"Fail\"\n",
    "assert sorted(v) == sorted(std_dic.values()), \"Fail\"\n"
   ]
  },
  {
   "cell_type": "code",
   "execution_count": 11,
   "metadata": {},
   "outputs": [],
   "source": [
    "# Running yield (optional part)\n",
    "import random\n",
    "chaining = chaining_dict(50)\n",
    "\n",
    "for item in range(30):\n",
    "    chaining.insert(item, random.randint(1,10000)) # adding \"random\" elements\n",
    "\n",
    "key_test = chaining.keys()\n",
    "value_test = chaining.values()\n",
    "item_test = chaining.items()"
   ]
  },
  {
   "cell_type": "code",
   "execution_count": 12,
   "metadata": {},
   "outputs": [
    {
     "data": {
      "text/plain": [
       "22"
      ]
     },
     "execution_count": 12,
     "metadata": {},
     "output_type": "execute_result"
    }
   ],
   "source": [
    "# Instead of using a for loop, we can also call next() on the generator object. \n",
    "# This is useful for testing a generator\n",
    "next(key_test)"
   ]
  },
  {
   "cell_type": "code",
   "execution_count": 13,
   "metadata": {},
   "outputs": [
    {
     "data": {
      "text/plain": [
       "6303"
      ]
     },
     "execution_count": 13,
     "metadata": {},
     "output_type": "execute_result"
    }
   ],
   "source": [
    "# Instead of using a for loop, we can also call next() on the generator object. \n",
    "# This is useful for testing a generator\n",
    "next(value_test)"
   ]
  },
  {
   "cell_type": "code",
   "execution_count": 14,
   "metadata": {},
   "outputs": [
    {
     "data": {
      "text/plain": [
       "(22, 6303)"
      ]
     },
     "execution_count": 14,
     "metadata": {},
     "output_type": "execute_result"
    }
   ],
   "source": [
    "# Instead of using a for loop, we can also call next() on the generator object. \n",
    "# This is useful for testing a generator\n",
    "next(item_test)"
   ]
  }
 ],
 "metadata": {
  "kernelspec": {
   "display_name": "Python 3 (ipykernel)",
   "language": "python",
   "name": "python3"
  },
  "language_info": {
   "codemirror_mode": {
    "name": "ipython",
    "version": 3
   },
   "file_extension": ".py",
   "mimetype": "text/x-python",
   "name": "python",
   "nbconvert_exporter": "python",
   "pygments_lexer": "ipython3",
   "version": "3.8.15"
  },
  "latex_envs": {
   "LaTeX_envs_menu_present": true,
   "autoclose": false,
   "autocomplete": true,
   "bibliofile": "biblio.bib",
   "cite_by": "apalike",
   "current_citInitial": 1,
   "eqLabelWithNumbers": true,
   "eqNumInitial": 1,
   "hotkeys": {
    "equation": "Ctrl-E",
    "itemize": "Ctrl-I"
   },
   "labels_anchors": false,
   "latex_user_defs": false,
   "report_style_numbering": false,
   "user_envs_cfg": false
  },
  "varInspector": {
   "cols": {
    "lenName": 16,
    "lenType": 16,
    "lenVar": 40
   },
   "kernels_config": {
    "python": {
     "delete_cmd_postfix": "",
     "delete_cmd_prefix": "del ",
     "library": "var_list.py",
     "varRefreshCmd": "print(var_dic_list())"
    },
    "r": {
     "delete_cmd_postfix": ") ",
     "delete_cmd_prefix": "rm(",
     "library": "var_list.r",
     "varRefreshCmd": "cat(var_dic_list()) "
    }
   },
   "types_to_exclude": [
    "module",
    "function",
    "builtin_function_or_method",
    "instance",
    "_Feature"
   ],
   "window_display": false
  }
 },
 "nbformat": 4,
 "nbformat_minor": 4
}
