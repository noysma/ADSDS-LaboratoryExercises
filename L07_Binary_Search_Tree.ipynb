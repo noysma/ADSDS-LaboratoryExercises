{
 "cells": [
  {
   "attachments": {},
   "cell_type": "markdown",
   "metadata": {},
   "source": [
    "# Binary Search Trees (BSTs)\n",
    "----"
   ]
  },
  {
   "cell_type": "code",
   "execution_count": 1,
   "metadata": {},
   "outputs": [],
   "source": [
    "## Define some function useful for testing\n",
    "import random\n",
    "\n",
    "## generate an array of n random integers up to b\n",
    "def get_random_array(n, b = 50):\n",
    "    return [random.randint(0, b) for _ in range(n)]"
   ]
  },
  {
   "attachments": {},
   "cell_type": "markdown",
   "metadata": {},
   "source": [
    "Hashing-based data structures are efficient solutions to index a set of keys providing three operations:\n",
    "- Insert a new key in the set\n",
    "- Delete a key from the set\n",
    "- Search a key in the set (and return its associated value).\n",
    "\n",
    "Binary Search Tree (BST) extends the set of operations with more ones.\n",
    "\n",
    "- Min/max keys in the set\n",
    "- Predecessor of a value, i.e., largest key in the set which is smaller than the given one\n",
    "- Successor of a value, i.e., smallest key in the set which is greater than the given one\n",
    "\n",
    "Implementing the above operations gives a **sorted map** (or ordered map).\n",
    "\n",
    "\n",
    "Notice that if the set would be **static** (i.e., no insert and delete) the problem can be easily solved with \n",
    "binary search on a sorted array. This is the goal of the first exercise. "
   ]
  },
  {
   "attachments": {},
   "cell_type": "markdown",
   "metadata": {},
   "source": [
    "---\n",
    "### Exercise: Static sorted map\n",
    "Complete and test the implementation below. You have to use binary search to solve predecessor and successor queries on a sorted array."
   ]
  },
  {
   "cell_type": "code",
   "execution_count": 2,
   "metadata": {},
   "outputs": [],
   "source": [
    "class StaticSortedMap:\n",
    "    def __init__(self, A): # assume A is already sorted\n",
    "        self.sorted_map = A[:] # copy input array\n",
    "        \n",
    "    def min(self):\n",
    "        return self.sorted_map[0]\n",
    "    \n",
    "    def max(self):\n",
    "        return self.sorted_map[-1]\n",
    "        \n",
    "    def search(self, key):\n",
    "        def __binary_search(p, e, key):\n",
    "            if p > e:\n",
    "                return False, p # if the key is not in the set, returns (False, p) where p is the position where the key should be inserted to keep the array sorted\n",
    "            if key > self.max():\n",
    "                return False, e # if the key is too high to be in the array, returns (False, e) where e is the lasto position in the array\n",
    "\n",
    "            mid = (p + e) // 2\n",
    "\n",
    "            if self.sorted_map[mid] == key:\n",
    "                return True, mid # if the key is in the set, returns  True, p where p is the position of the key in the array\n",
    "            elif self.sorted_map[mid] > key:\n",
    "                return __binary_search(p, mid - 1, key)\n",
    "            else:\n",
    "                return __binary_search(mid + 1, e, key)\n",
    "\n",
    "        return __binary_search(0, len(self.sorted_map), key)\n",
    "        \n",
    "    def predecessor(self, key):\n",
    "        bool, idx = self.search(key)\n",
    "        if idx == 0:\n",
    "            return None\n",
    "        if bool == True:\n",
    "            return idx-1, self.sorted_map[idx-1] \n",
    "        return idx-1, self.sorted_map[idx-1] # if the predecessor does not exist\n",
    "        \n",
    "    def successor(self, key):\n",
    "        bool, idx = self.search(key)\n",
    "        if idx >= len(self.sorted_map)-1:\n",
    "            return None\n",
    "        if bool == True:\n",
    "            return idx+1, self.sorted_map[idx+1]\n",
    "        return idx, self.sorted_map[idx]"
   ]
  },
  {
   "cell_type": "code",
   "execution_count": 3,
   "metadata": {},
   "outputs": [
    {
     "name": "stdout",
     "output_type": "stream",
     "text": [
      "[0, 2, 4, 4, 5, 6, 6, 8, 11, 16, 16, 19, 22, 24, 24, 25, 28, 29, 29, 30, 30, 31, 32, 34, 34, 36, 37, 38, 38, 38, 41, 42, 43, 44, 45, 45, 45, 47, 47, 50]\n",
      "Searching 31 with 'StaticSortedMap': (True, 7)\n",
      "Searching 90 with 'StaticSortedMap': (False, 40)\n",
      "The successo of 10 is (8, 11)\n",
      "The successor of 76 is None\n",
      "The predecessor of 1 is (0, 0)\n",
      "The predecessor of 27 is (15, 25)\n"
     ]
    }
   ],
   "source": [
    "## Implementation test\n",
    "a = get_random_array(40)\n",
    "\n",
    "ssm = StaticSortedMap(sorted(a))\n",
    "\n",
    "print(sorted(a))\n",
    "print(f\"Searching 31 with 'StaticSortedMap': {ssm.search(8)}\")\n",
    "print(f\"Searching 90 with 'StaticSortedMap': {ssm.search(90)}\")\n",
    "print(f\"The successo of 10 is {ssm.successor(10)}\")\n",
    "print(f\"The successor of 76 is {ssm.successor(76)}\")\n",
    "print(f\"The predecessor of 1 is {ssm.predecessor(1)}\")\n",
    "print(f\"The predecessor of 27 is {ssm.predecessor(27)}\")"
   ]
  },
  {
   "attachments": {},
   "cell_type": "markdown",
   "metadata": {},
   "source": [
    "---\n",
    "## Sorted map with Binary Search Tree"
   ]
  },
  {
   "attachments": {},
   "cell_type": "markdown",
   "metadata": {},
   "source": [
    "### Exercise: Binary Search Tree\n",
    "Extend the previous implementation of Binary Search Trees to support **search(x)** operation. Test your implementation."
   ]
  },
  {
   "attachments": {},
   "cell_type": "markdown",
   "metadata": {},
   "source": [
    "### Optional Exercise: \n",
    "Extend the previous implementation to support **delete(x)**, **min()**, **max()**, **predecessor(x)** and **successor(x)** operations and test your implementation."
   ]
  },
  {
   "cell_type": "code",
   "execution_count": 4,
   "metadata": {},
   "outputs": [],
   "source": [
    "class BinarySearchTree:\n",
    "    # This is a Node class that is internal to the BinarySearchTree class\n",
    "    class __Node:\n",
    "        def __init__(self, val, left=None, right=None):\n",
    "            self.val = val\n",
    "            self.left = left\n",
    "            self.right = right\n",
    "            \n",
    "        def getVal(self): \n",
    "            return self.val\n",
    "\n",
    "        def setVal(self, newval): \n",
    "            self.val = newval\n",
    "            \n",
    "        def getLeft(self): \n",
    "            return self.left\n",
    "        \n",
    "        def getRight(self): \n",
    "            return self.right\n",
    "        \n",
    "        def setLeft(self, newleft): \n",
    "            self.left = newleft\n",
    "        \n",
    "        def setRight(self, newright): \n",
    "            self.right = newright\n",
    "            \n",
    "        # This method deserves a little explanation. It does an inorder traversal\n",
    "        # of the nodes of the tree yielding all the values. In this way, we get\n",
    "        # the values in ascending order.       \n",
    "        def __iter__(self):\n",
    "            if self.left != None:\n",
    "                for elem in self.left: \n",
    "                    yield elem\n",
    "            yield self.val\n",
    "            if self.right != None:\n",
    "                for elem in self.right:\n",
    "                    yield elem\n",
    "                    \n",
    "    # Below methods of the BinarySearchTree class.\n",
    "    def __init__(self): \n",
    "        self.root = None\n",
    "         \n",
    "    def insert(self, val):   \n",
    "        # The __insert function is recursive and is not a passed a self parameter. It is a # static function (not a method of the class) but is hidden inside the insert\n",
    "        # function so users of the class will not know it exists.\n",
    "        def __insert(root, val): \n",
    "            if root == None:\n",
    "                return BinarySearchTree.__Node(val)\n",
    "            if val < root.getVal(): \n",
    "                root.setLeft( __insert(root.getLeft(), val) )\n",
    "            else: \n",
    "                root.setRight( __insert(root.getRight(), val) )\n",
    "            return root\n",
    "        \n",
    "        self.root = __insert(self.root, val)\n",
    "\n",
    "    def search(self, x):\n",
    "        node = self.root\n",
    "        def __search(node, x):\n",
    "            if node != None:\n",
    "                if x == node.getVal():\n",
    "                    return (True, x)\n",
    "                elif x < node.getVal():\n",
    "                    return __search(node.left, x)\n",
    "                else:\n",
    "                    return __search(node.right, x)\n",
    "            return (False, x) # if node == None\n",
    "        return __search(node, x)\n",
    "    \n",
    "    # OPTIONAL\n",
    "    def min(self):\n",
    "        if self.root is None:\n",
    "            return None\n",
    "\n",
    "        current = self.root\n",
    "        while current.getLeft() is not None:\n",
    "            current = current.getLeft()\n",
    "\n",
    "        return current.getVal()\n",
    "\n",
    "    def max(self):\n",
    "        if self.root is None:\n",
    "            return None\n",
    "\n",
    "        current = self.root\n",
    "        while current.getRight() is not None:\n",
    "            current = current.getRight()\n",
    "\n",
    "        return current.getVal()"
   ]
  },
  {
   "cell_type": "code",
   "execution_count": 5,
   "metadata": {},
   "outputs": [
    {
     "name": "stdout",
     "output_type": "stream",
     "text": [
      "[2, 3, 4, 4, 5, 6, 6, 7, 7, 9, 12, 17, 17, 19, 20, 21, 22, 29, 30, 31, 31, 32, 32, 33, 33, 34, 34, 35, 36, 36, 36, 37, 37, 38, 38, 41, 42, 43, 45, 50]\n",
      "2\n",
      "50\n",
      "['aaa', 'ciao', 'zzz', 'zzzW']\n"
     ]
    }
   ],
   "source": [
    "## Implementation test\n",
    "a = get_random_array(40)\n",
    "\n",
    "bst = BinarySearchTree()\n",
    "\n",
    "for x in a: \n",
    "    bst.insert(x)\n",
    "\n",
    "print([x for x in bst.root])\n",
    "    \n",
    "assert [x for x in bst.root] == sorted(a), \"FAIL insert!\"\n",
    "\n",
    "# Check for search\n",
    "for item in a:\n",
    "    assert bst.search(item) == (True,item), \"FAIL search!\"\n",
    "\n",
    "# OPTIONALS min and max\n",
    "print(bst.min())\n",
    "print(bst.max())\n",
    "\n",
    "\n",
    "## It works with strings as well\n",
    "\n",
    "a = [\"ciao\", \"aaa\", \"zzz\", \"zzzW\"]\n",
    "\n",
    "bst_strings = BinarySearchTree()\n",
    "\n",
    "for string in a:\n",
    "    bst_strings.insert(string)\n",
    "\n",
    "print([x for x in bst_strings.root])\n",
    "\n",
    "assert [x for x in bst_strings.root] == sorted(a), \"FAIL!\""
   ]
  },
  {
   "cell_type": "code",
   "execution_count": null,
   "metadata": {},
   "outputs": [],
   "source": []
  }
 ],
 "metadata": {
  "kernelspec": {
   "display_name": "Python 3 (ipykernel)",
   "language": "python",
   "name": "python3"
  },
  "language_info": {
   "codemirror_mode": {
    "name": "ipython",
    "version": 3
   },
   "file_extension": ".py",
   "mimetype": "text/x-python",
   "name": "python",
   "nbconvert_exporter": "python",
   "pygments_lexer": "ipython3",
   "version": "3.8.15"
  }
 },
 "nbformat": 4,
 "nbformat_minor": 4
}
