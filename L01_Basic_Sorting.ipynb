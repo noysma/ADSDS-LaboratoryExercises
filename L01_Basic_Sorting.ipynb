{
 "cells": [
  {
   "attachments": {},
   "cell_type": "markdown",
   "metadata": {},
   "source": [
    "**Author**: Ismaele Gorgoglione"
   ]
  },
  {
   "attachments": {},
   "cell_type": "markdown",
   "metadata": {},
   "source": [
    "## L01 - Basic Sorting Algorithm\n",
    "----"
   ]
  },
  {
   "cell_type": "markdown",
   "metadata": {},
   "source": [
    "### Exercise: Selection Sort\n",
    "Write the function ```SelectionSort(coll)``` that returns a sorted list with the elements in *coll*. \n",
    "You have to implements Selection Sort algorithm."
   ]
  },
  {
   "cell_type": "code",
   "execution_count": 1,
   "metadata": {
    "tags": []
   },
   "outputs": [],
   "source": [
    "def SelectionSort(coll):\n",
    "    for i in range(len(coll)-1):\n",
    "        min_pos = i\n",
    "        for j in range(i+1, len(coll)):\n",
    "            if coll[j] < coll[min_pos]:\n",
    "                min_pos = j\n",
    "        coll[i], coll[min_pos] = coll[min_pos], coll[i]\n",
    "    return coll"
   ]
  },
  {
   "cell_type": "code",
   "execution_count": 2,
   "metadata": {
    "tags": []
   },
   "outputs": [
    {
     "name": "stdout",
     "output_type": "stream",
     "text": [
      "[0, 1, 2, 3, 4, 5, 6, 7, 8, 9]\n"
     ]
    }
   ],
   "source": [
    "## Check correctdness\n",
    "\n",
    "def test_sortedness(my_list):\n",
    "    return my_list == sorted(my_list)\n",
    "\n",
    "my_list = list(range(10))[::-1]\n",
    "\n",
    "print(SelectionSort(my_list))\n",
    "\n",
    "assert test_sortedness( SelectionSort(my_list) ), \"Must be increasing!\""
   ]
  },
  {
   "attachments": {},
   "cell_type": "markdown",
   "metadata": {},
   "source": [
    "___"
   ]
  },
  {
   "cell_type": "markdown",
   "metadata": {},
   "source": [
    "### Exercise: Insertion Sort\n",
    "Write the function ```InsertionSort(coll)``` that returns a sorted list with the elements in *coll*. \n",
    "You have to implements Insertion Sort algorithm."
   ]
  },
  {
   "cell_type": "code",
   "execution_count": 3,
   "metadata": {
    "tags": []
   },
   "outputs": [],
   "source": [
    "def InsertionSort(coll):\n",
    "    for j in range(1, len(coll)):\n",
    "        key = coll[j]\n",
    "        i = j-1\n",
    "        while i >= 0 and coll[i] > key:\n",
    "            coll[i+1] = coll[i]\n",
    "            i = i-1\n",
    "        coll[i+1] = key\n",
    "    return coll"
   ]
  },
  {
   "cell_type": "code",
   "execution_count": 4,
   "metadata": {
    "tags": []
   },
   "outputs": [
    {
     "name": "stdout",
     "output_type": "stream",
     "text": [
      "[0, 1, 2, 3, 4, 5, 6, 7, 8, 9]\n"
     ]
    }
   ],
   "source": [
    "## Check correctdness\n",
    "\n",
    "my_list = list(range(10))[::-1]\n",
    "\n",
    "print(InsertionSort(my_list))\n",
    "\n",
    "assert test_sortedness( InsertionSort(my_list) ), \"Must be increasing!\""
   ]
  },
  {
   "attachments": {},
   "cell_type": "markdown",
   "metadata": {},
   "source": [
    "---\n",
    "\n",
    "To use our own comparator with ```.sort()``` and ```sorted()```, we have to use ```functools.cmp_to_key(cmp)```function. This converts our comparator to a function that can be used as a argument for parameter ```key```. \n"
   ]
  },
  {
   "cell_type": "code",
   "execution_count": 5,
   "metadata": {
    "tags": []
   },
   "outputs": [],
   "source": [
    "import functools"
   ]
  },
  {
   "attachments": {},
   "cell_type": "markdown",
   "metadata": {},
   "source": [
    "### Exercise: Strange orderings\n",
    "Given a list, write and test comparators to obtain the following orderings:\n",
    "- Even number precede odd ones. Even numbers are sorted in non-decreasing  order while odd ones are sorted in non-increasing order.\n",
    "- Strings are sorted in non-increasing order based on their lengths. Strings having the same length are sorted in non-increasing lexicographic order. "
   ]
  },
  {
   "cell_type": "code",
   "execution_count": 6,
   "metadata": {
    "tags": []
   },
   "outputs": [],
   "source": [
    "my_list = list(range(10))\n",
    "my_list2 = [\"a\", \"b\", \"aba\", \"cad\", \"zzzz\", \"aaaa\"]"
   ]
  },
  {
   "cell_type": "code",
   "execution_count": 7,
   "metadata": {
    "tags": []
   },
   "outputs": [],
   "source": [
    "## Your implementation here!!!\n",
    "def my_cmp(a, b):\n",
    "    if a % 2 == 0 and b % 2 == 0:  # both even\n",
    "        return a - b  # non-decreasing order\n",
    "    elif a % 2 == 1 and b % 2 == 1:  # both odd\n",
    "        return b - a  # non-increasing order\n",
    "    elif a % 2 == 0:  # a is even, b is odd\n",
    "        return -1  # a comes before b\n",
    "    else:  # a is odd, b is even\n",
    "        return 1  # b comes before a"
   ]
  },
  {
   "cell_type": "code",
   "execution_count": 8,
   "metadata": {
    "tags": []
   },
   "outputs": [
    {
     "name": "stdout",
     "output_type": "stream",
     "text": [
      "[0, 2, 4, 6, 8, 9, 7, 5, 3, 1]\n"
     ]
    }
   ],
   "source": [
    "print( sorted(my_list, key = functools.cmp_to_key(my_cmp)) )"
   ]
  },
  {
   "attachments": {},
   "cell_type": "markdown",
   "metadata": {},
   "source": [
    "---"
   ]
  },
  {
   "attachments": {},
   "cell_type": "markdown",
   "metadata": {},
   "source": [
    "### Exercise: Insertion Sort with a comparator\n",
    "Write the function ```InsertionSort(coll, cmp)``` that returns a sorted list with the elements in *coll* using \n",
    "```cmp``` as a comparator."
   ]
  },
  {
   "cell_type": "code",
   "execution_count": 9,
   "metadata": {},
   "outputs": [],
   "source": [
    "def InsertionSort(coll, cmp):\n",
    "    for i in range(1, len(coll)):\n",
    "        j = i\n",
    "        while j > 0 and cmp(coll[j], coll[j-1]) < 0:\n",
    "            coll[j], coll[j-1] = coll[j-1], coll[j]\n",
    "            j -= 1\n",
    "    return coll"
   ]
  },
  {
   "cell_type": "code",
   "execution_count": 10,
   "metadata": {
    "tags": []
   },
   "outputs": [],
   "source": [
    "my_list = list(range(10))\n",
    "def my_cmp(a,b):\n",
    "    if a > b: return 1\n",
    "    return -1"
   ]
  },
  {
   "cell_type": "code",
   "execution_count": 11,
   "metadata": {},
   "outputs": [
    {
     "name": "stdout",
     "output_type": "stream",
     "text": [
      "[0, 1, 2, 3, 4, 5, 6, 7, 8, 9]\n"
     ]
    }
   ],
   "source": [
    "## Implementation test\n",
    "def test_sortedness(my_list, cmp):\n",
    "    return InsertionSort(my_list, cmp) == sorted(my_list, key = functools.cmp_to_key(cmp))\n",
    "\n",
    "print(InsertionSort(my_list,my_cmp))\n",
    "\n",
    "assert test_sortedness(my_list, my_cmp), \"Must be sorted\"\n",
    "assert test_sortedness(my_list2, my_cmp), \"Must be sorted\""
   ]
  },
  {
   "cell_type": "markdown",
   "metadata": {},
   "source": [
    "-----\n",
    "\n",
    "### Exercise: Intersection of two lists\n",
    "Write a function ```intersection_slow(l1, l2)``` which returns the intersection of the two lists l1 and l2.\n",
    "\n",
    "Use the trivial algorithms that runs in $\\Theta(|l1|\\times|l2|)$. "
   ]
  },
  {
   "cell_type": "code",
   "execution_count": 12,
   "metadata": {},
   "outputs": [],
   "source": [
    "def intersection_slow(l1, l2):\n",
    "    l3 = []\n",
    "    for item in l1:\n",
    "        if item in l2:\n",
    "            l3.append(item)\n",
    "    return l3"
   ]
  },
  {
   "cell_type": "code",
   "execution_count": 13,
   "metadata": {},
   "outputs": [],
   "source": [
    "## Implementation test\n",
    "\n",
    "l1 = [3, 5, 1, 2]\n",
    "l2 = [1, 4, 6, 2]\n",
    "\n",
    "#print(intersection_slow(l1,l2))\n",
    "\n",
    "assert set(intersection_slow(l1, l2)) == set([1, 2]), \"Urca\""
   ]
  },
  {
   "cell_type": "markdown",
   "metadata": {},
   "source": [
    "----\n",
    "### Exercise: Faster intersection of two lists\n",
    "Write a function ```intersection(l1, l2)``` which returns the intersection of the two lists l1 and l2.\n",
    "\n",
    "Assume that both l1 and l2 are sorted!"
   ]
  },
  {
   "cell_type": "code",
   "execution_count": 14,
   "metadata": {},
   "outputs": [],
   "source": [
    "def intersection(l1,l2):\n",
    "    l3 = []\n",
    "    i = 0\n",
    "    j = 0\n",
    "    while i < len(l1) and j < len(l2):\n",
    "        if l1[i] > l2[j]:\n",
    "            i += 1\n",
    "        elif l1[i] < l2[j]:\n",
    "            j += 1\n",
    "        else:\n",
    "            l3.append(l1[i])\n",
    "            i += 1\n",
    "            j += 1\n",
    "    return l3"
   ]
  },
  {
   "cell_type": "code",
   "execution_count": 15,
   "metadata": {},
   "outputs": [],
   "source": [
    "## Implementation test\n",
    "\n",
    "l1 = sorted([3, 5, 1, 2])\n",
    "l2 = sorted([1, 4, 6, 2])\n",
    "\n",
    "assert set(intersection(l1, l2)) == set([1, 2]), \"Urca\""
   ]
  },
  {
   "attachments": {},
   "cell_type": "markdown",
   "metadata": {},
   "source": [
    "----\n",
    "### Exercise: search engine\n",
    "You are given a collection of texts and you want to build your own search engine, people at Google are already very scared!\n",
    "\n",
    "Modern search engines are based on a data structure called *Inverted Index*. \n",
    "\n",
    "Each document of the collection is assigned an identifier, starting from 0.\n",
    "An inverted index stores a list, called *inverted list*, for each term of the collection.\n",
    "The list for a term *t* contains the identifiers of all the documents containing term *t*. The list is sorted.\n",
    "\n",
    "For example,\n",
    "\n",
    "````\n",
    "C = [\"dog cat elephant monkey\",  \"dog lion tiger\", \"fish dog dog cat cow\"]\n",
    "\n",
    "````\n",
    "\n",
    "The list of term *cat* is [0,2], the list of *elephant* is [0].\n",
    "\n",
    "Given two terms, an AND query reports all the documents containing both terms. For example, \n",
    "*query(\"cat\", \"dog\"), the result is [0, 2].\n",
    "\n",
    "You goal is to implement a simple search engine. Do the following. \n",
    "\n",
    "- Given the collection, build a dictionary that maps each term to its inverted list. Observe that \n",
    "each document occurs at most once in each list. \n",
    "- Implement a function *query* which answers an AND query. "
   ]
  },
  {
   "cell_type": "code",
   "execution_count": 16,
   "metadata": {},
   "outputs": [],
   "source": [
    "def build_index(C):\n",
    "    index = {}\n",
    "    for pos, item in enumerate(C):\n",
    "        terms = item.split()\n",
    "        for term in terms:\n",
    "            if term not in index:\n",
    "                index[term] = []\n",
    "            if pos not in index[term]:\n",
    "                index[term].append(pos)\n",
    "    for term in index:\n",
    "        index[term].sort()\n",
    "    return index\n",
    "\n",
    "def query(index, t1, t2):\n",
    "    if t1 not in index.keys() or t2 not in index.keys():\n",
    "        return None\n",
    "    for key, value in index.items():\n",
    "        if key == t1:\n",
    "            l1 = value\n",
    "        if key == t2:\n",
    "            l2 = value\n",
    "    return list(set(l1) & set(l2))"
   ]
  },
  {
   "cell_type": "code",
   "execution_count": 17,
   "metadata": {},
   "outputs": [],
   "source": [
    "## Implementation test\n",
    "\n",
    "C = [\"dog cat elephant monkey\",  \"dog lion tiger\", \"fish dog dog cat cow\"]\n",
    "\n",
    "index = build_index(C)\n",
    "assert query(index, \"cat\", \"dog\") == [0, 2], \"Urca\""
   ]
  },
  {
   "cell_type": "code",
   "execution_count": null,
   "metadata": {},
   "outputs": [],
   "source": []
  }
 ],
 "metadata": {
  "kernelspec": {
   "display_name": "Python 3 (ipykernel)",
   "language": "python",
   "name": "python3"
  },
  "language_info": {
   "codemirror_mode": {
    "name": "ipython",
    "version": 3
   },
   "file_extension": ".py",
   "mimetype": "text/x-python",
   "name": "python",
   "nbconvert_exporter": "python",
   "pygments_lexer": "ipython3",
   "version": "3.10.7"
  }
 },
 "nbformat": 4,
 "nbformat_minor": 4
}
