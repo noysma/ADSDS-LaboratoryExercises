{
 "cells": [
  {
   "attachments": {},
   "cell_type": "markdown",
   "metadata": {},
   "source": [
    "## Sorting: Applications\n",
    "\n",
    "----"
   ]
  },
  {
   "cell_type": "code",
   "execution_count": 1,
   "metadata": {},
   "outputs": [],
   "source": [
    "## Define some function useful for testing\n",
    "import random\n",
    "import heapq\n",
    "\n",
    "## Generate an array of n random integers up to b\n",
    "def get_random_array(n, b = 50):\n",
    "    return [random.randint(0, b) for _ in range(n)]"
   ]
  },
  {
   "attachments": {},
   "cell_type": "markdown",
   "metadata": {},
   "source": [
    "---\n",
    "\n",
    "### Exercise: K-largest elements of an array\n",
    "\n",
    "We want to compute the K-largest elements of a array A. **Report them sorted**.\n",
    "\n",
    "There are three possible algorithms to solve this problem:\n",
    "\n",
    "\n",
    "#### Algorithm 1: Sorting\n",
    "The easiest way to solve this is by sorting the array in decreasing order and reporting the first K elements. \n",
    "\n",
    "This algorithm costs $\\Theta(n\\log n)$ time. \n",
    "\n",
    "Implement this algorithm in a function ```k_largest_sort(A, K)```and test its correctness.\n",
    "\n",
    "#### Algorithm 2: QuickSelect\n",
    "Implement the QuickSelect algorithm and use it to find the K-largest element E in the array A. Then, scan A again \n",
    "to collect the K elements larger than or equal to E. Finally, sort the collected elements.\n",
    "\n",
    "This algorithm costs $\\Theta(n + K\\log K)$ time (in expectation). \n",
    "\n",
    "Implement this algorithm in a function ```k_largest_quickselect(A, K)```and test its correctness.\n",
    "\n",
    "\n",
    "#### Algorithm 3: Heap\n",
    "You have to implement the following faster algorithm as a function ```k_largest_heap(A,K)```.\n",
    "- Scan the array from left to right and keep a min-heap. The min-heap will contain at most K elements.\n",
    "- Insert the current element into the heap, if the heap has less than K elements or the current element is larger than the minimum in the heap. If the heap has more than K elements, remove the minimum. \n",
    "- Sort the collected elements.\n",
    "\n",
    "This algorithm runs in $\\Theta(n\\log K)$ time.\n",
    "\n",
    "Implement this algorithm in a function ```k_largest_heap(A, K)```and test its correctness.\n",
    "\n",
    "\n",
    "**Compare the three solutions by varying the size of the array and the value K. Which one is the fastest?**"
   ]
  },
  {
   "cell_type": "code",
   "execution_count": 2,
   "metadata": {},
   "outputs": [],
   "source": [
    "def k_largest_sort(a,k):\n",
    "    return sorted(a)[-k:]\n",
    "\n",
    "############################################################\n",
    "\n",
    "def QuickSelect(a, k):\n",
    "    if len(a) == 1:\n",
    "        return a[0]\n",
    "\n",
    "    pivot = a[0]\n",
    "    left = [num for num in a[1:] if num <= pivot]\n",
    "    right = [num for num in a[1:] if num > pivot]\n",
    "\n",
    "    if k <= len(right):\n",
    "        return QuickSelect(right, k)\n",
    "    elif k == len(right) + 1:\n",
    "        return pivot\n",
    "    else:\n",
    "        return QuickSelect(left, k - len(right) - 1)\n",
    "    \n",
    "def k_largest_quickselect(a,k):\n",
    "    k_largest = []\n",
    "    elem = QuickSelect(a,k)\n",
    "    for item in a:\n",
    "        if item >= elem:\n",
    "            k_largest.append(item)\n",
    "    return k_largest\n",
    "\n",
    "############################################################\n",
    "\n",
    "def k_largest_heap(a,k):\n",
    "    min_heap = [] \n",
    "    for elem in a: \n",
    "        if (len(min_heap) <= k) or (elem > min_heap[0]): \n",
    "            heapq.heappush(min_heap, elem) # insert the current element into the heap\n",
    "        if len(min_heap) > k: \n",
    "            heapq.heappop(min_heap) # remove the minimum\n",
    "    return sorted(min_heap, reverse = True)"
   ]
  },
  {
   "attachments": {},
   "cell_type": "markdown",
   "metadata": {},
   "source": [
    "The **QuickSelect** function uses a modified version of the 'traditional' Quickselect algorithm to find the 'kth' largest element in the input list 'a'. It recursively partitions the list around a pivot element and then narrows down the search to the left or right partition based on the value of 'k'. If 'k' is less than or equal to the length of the right partition, the search continues in the right partition, otherwise the search continues in the left partition with an updated value of 'k'. The function returns the 'kth' largest element in the list.  \n",
    "This modified version was obtained by simply modifying the original version and reversion the check of 'kth' element with the left and right part.\n",
    "\n",
    "The **k_largest_quickselect** function uses MaxElement to find the 'kth' largest element in the input list 'a' and then returns all elements in a that are greater than or equal to this element. The result is a list of the 'k' largest elements in 'a'.\n",
    "\n",
    "The idea behing **k_largest_heap** is to maintain a min heap of the k largest elements seen so far. Whenever a new element is encountered, it is added to the heap only if it is greater than the minimum element in the heap. If the size of the heap exceeds k, then the minimum element is removed. The final result is the sorted k largest elements in descending order."
   ]
  },
  {
   "cell_type": "code",
   "execution_count": 3,
   "metadata": {},
   "outputs": [],
   "source": [
    "## Implementation test\n",
    "a = get_random_array(1000, 10000)\n",
    "\n",
    "assert sorted(k_largest_sort(a, 10)) == sorted(a)[-10:], \"FAIL!\"  \n",
    "assert sorted(k_largest_quickselect(a, 10)) == sorted(a)[-10:], \"FAIL!\"  \n",
    "assert sorted(k_largest_heap(a, 10)) == sorted(a)[-10:], \"FAIL!\"  "
   ]
  },
  {
   "cell_type": "code",
   "execution_count": 4,
   "metadata": {},
   "outputs": [
    {
     "name": "stdout",
     "output_type": "stream",
     "text": [
      "6.47 ms ± 861 µs per loop (mean ± std. dev. of 7 runs, 100 loops each)\n",
      "9.84 ms ± 885 µs per loop (mean ± std. dev. of 7 runs, 100 loops each)\n",
      "18.3 ms ± 158 µs per loop (mean ± std. dev. of 7 runs, 100 loops each)\n"
     ]
    }
   ],
   "source": [
    "a = get_random_array(50000, 100)\n",
    "K = 10\n",
    "\n",
    "%timeit k_largest_sort(a, K)\n",
    "%timeit k_largest_quickselect(a, K)\n",
    "%timeit k_largest_heap(a, K)"
   ]
  },
  {
   "attachments": {},
   "cell_type": "markdown",
   "metadata": {
    "slideshow": {
     "slide_type": "subslide"
    }
   },
   "source": [
    "---\n",
    "\n",
    "### Exercise: compute distinct elements\n",
    "You are given a list A of elements and you want to obtain the list of distict elements in A.\n",
    "\n",
    "There are two possible algorithms to do this:\n",
    "\n",
    "- Use ```list(set(A))```\n",
    "- Sort A and then scan. Implement this as a function ```distinct(A)``` \n",
    "\n",
    "Compare these two approaches by varying the size of the array and the number of distinct elements."
   ]
  },
  {
   "cell_type": "code",
   "execution_count": 5,
   "metadata": {},
   "outputs": [],
   "source": [
    "def distinct(a):\n",
    "    return sorted([x for i, x in enumerate(a) if x not in a[:i]])"
   ]
  },
  {
   "cell_type": "code",
   "execution_count": 6,
   "metadata": {},
   "outputs": [],
   "source": [
    "## Implementation test\n",
    "a = get_random_array(1000)\n",
    "\n",
    "assert distinct(a) == sorted(list(set(a))), \"FAIL!\""
   ]
  },
  {
   "attachments": {},
   "cell_type": "markdown",
   "metadata": {},
   "source": [
    "## What's the fastest approach?"
   ]
  },
  {
   "cell_type": "code",
   "execution_count": 7,
   "metadata": {},
   "outputs": [
    {
     "name": "stdout",
     "output_type": "stream",
     "text": [
      "86.8 µs ± 337 ns per loop (mean ± std. dev. of 7 runs, 10,000 loops each)\n",
      "141 ms ± 16.5 ms per loop (mean ± std. dev. of 7 runs, 10 loops each)\n"
     ]
    }
   ],
   "source": [
    "a = get_random_array(10000, 10)\n",
    "\n",
    "%timeit list(set(a))\n",
    "%timeit distinct(a)"
   ]
  },
  {
   "attachments": {},
   "cell_type": "markdown",
   "metadata": {},
   "source": [
    "---\n",
    "\n",
    "### Exercise: Pareto frontier of a set of points in 2-D space (aka Skyline problem)\n",
    "We are given a set $S$ of $n$ 2D points.\n",
    "A point $(x,y)$ dominates a point $(x',y')$ iff $𝑥'\\leq 𝑥$ and $y'\\leq 𝑦$. \n",
    "Our goal is to find the set $P$ of dominating points in $S$. \n",
    "This corresponds to find the Pareto frontier (or, equivalently, the skyline). \n",
    "\n",
    "\n",
    "This problem has a lot of [applications](https://en.wikipedia.org/wiki/Multi-objective_optimization) (and [here](https://en.wikipedia.org/wiki/Pareto_efficiency)).\n",
    "\n",
    "The problem can be solved in $\\Theta(n\\log n)$ time.\n",
    "\n",
    "To find $P$ we need to sort points in $S$ by $x$ in descending order, \n",
    "and if $x$′𝑠 the same by $y$ in descending order. This takes $\\Theta(n\\log n)$ time. \n",
    "Then, we do the following.\n",
    "\n",
    "- Include first point in $P$ and remember this point as $𝑇$. \n",
    "- Iterates through the point (let $C$ current point):\n",
    "* if $C$ is dominated by $T$, then skip $C$ and go to next point;\n",
    "* Otherwise, include $C$ in $P$ and set $𝑇=𝐶$.\n",
    "\n",
    "This step can be performed in linear time.\n",
    "\n",
    "Implement the function ```pareto_frontier(S)```, which returns the pareto frontier $P$ of the points in $S$.\n"
   ]
  },
  {
   "cell_type": "code",
   "execution_count": 8,
   "metadata": {},
   "outputs": [],
   "source": [
    "def pareto_frontier(S):\n",
    "    S.sort(key=lambda point: (point[0], point[1]), reverse=True) # sort points in decreasing order\n",
    "    P = [] # this will be the frontier (dominating points)\n",
    "    T = S[0] \n",
    "    P.append(T)\n",
    "    for C in S: # checks whether C dominates T, which means that C has a smaller or equal x-value and a smaller or equal y-value than T\n",
    "        if (C[0] <= T[0]) and (C[1] <= T[1]):\n",
    "            continue\n",
    "        else: # if C dominates T, then T is updated to C and C is added to the Pareto frontier P\n",
    "            P.append(C)\n",
    "            T = C\n",
    "    return list(reversed(P)) # the function returns the reversed list of P, because the points were added to P in reverse order"
   ]
  },
  {
   "cell_type": "code",
   "execution_count": 9,
   "metadata": {},
   "outputs": [],
   "source": [
    "## Implementation test\n",
    "\n",
    "S = [(6, 7.5), (7, 8), (8, 7), (2, 9), (3, 9.5), (1, 10), (4, 9), (5, 8)]\n",
    "\n",
    "assert pareto_frontier(S) == [(1, 10), (3, 9.5), (4, 9), (7, 8), (8, 7)], \"Fail!\""
   ]
  },
  {
   "cell_type": "code",
   "execution_count": null,
   "metadata": {},
   "outputs": [],
   "source": []
  }
 ],
 "metadata": {
  "kernelspec": {
   "display_name": "Python 3 (ipykernel)",
   "language": "python",
   "name": "python3"
  },
  "language_info": {
   "codemirror_mode": {
    "name": "ipython",
    "version": 3
   },
   "file_extension": ".py",
   "mimetype": "text/x-python",
   "name": "python",
   "nbconvert_exporter": "python",
   "pygments_lexer": "ipython3",
   "version": "3.8.15"
  },
  "latex_envs": {
   "LaTeX_envs_menu_present": true,
   "autoclose": false,
   "autocomplete": true,
   "bibliofile": "biblio.bib",
   "cite_by": "apalike",
   "current_citInitial": 1,
   "eqLabelWithNumbers": true,
   "eqNumInitial": 1,
   "hotkeys": {
    "equation": "Ctrl-E",
    "itemize": "Ctrl-I"
   },
   "labels_anchors": false,
   "latex_user_defs": false,
   "report_style_numbering": false,
   "user_envs_cfg": false
  },
  "varInspector": {
   "cols": {
    "lenName": 16,
    "lenType": 16,
    "lenVar": 40
   },
   "kernels_config": {
    "python": {
     "delete_cmd_postfix": "",
     "delete_cmd_prefix": "del ",
     "library": "var_list.py",
     "varRefreshCmd": "print(var_dic_list())"
    },
    "r": {
     "delete_cmd_postfix": ") ",
     "delete_cmd_prefix": "rm(",
     "library": "var_list.r",
     "varRefreshCmd": "cat(var_dic_list()) "
    }
   },
   "types_to_exclude": [
    "module",
    "function",
    "builtin_function_or_method",
    "instance",
    "_Feature"
   ],
   "window_display": false
  }
 },
 "nbformat": 4,
 "nbformat_minor": 4
}
