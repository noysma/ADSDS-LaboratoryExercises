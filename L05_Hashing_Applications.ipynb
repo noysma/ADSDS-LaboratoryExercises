{
 "cells": [
  {
   "attachments": {},
   "cell_type": "markdown",
   "metadata": {},
   "source": [
    "**Author**: Ismaele Gorgoglione"
   ]
  },
  {
   "attachments": {},
   "cell_type": "markdown",
   "metadata": {},
   "source": [
    "# Hashing: Applications\n",
    "\n",
    "You already know several applications of Python's set and dictionary (thus, hashing) in your programming life. \n",
    "For example, computing frequencies of distinct strings in text or numbers in a list.\n",
    "\n",
    "Today we will see a very important application in managing data bases: \n",
    "- Data aggregation by grouping rows by values in some colum (aka **GroupBy**)\n",
    "- Merging different datasets (aka **Join**) "
   ]
  },
  {
   "attachments": {},
   "cell_type": "markdown",
   "metadata": {},
   "source": [
    "---\n",
    "\n",
    "## Data Aggregation in Pandas: GroupBy\n",
    "\n",
    "Groupby is a pretty easy concept: *we create a grouping of categories and apply an aggregation function to element of each category*.\n",
    "\n",
    "It's a simple concept but it's an extremely valuable technique that's widely used in data science. The value of groupby really comes from its ability to **aggregate data efficiently**, both in performance and the amount code it takes. "
   ]
  },
  {
   "attachments": {},
   "cell_type": "markdown",
   "metadata": {},
   "source": [
    "Let's first create a toy DataFrame"
   ]
  },
  {
   "cell_type": "code",
   "execution_count": 1,
   "metadata": {},
   "outputs": [],
   "source": [
    "import random\n",
    "import pandas as pd\n",
    "\n",
    "random.seed(42)\n",
    "    \n",
    "# Random pets column\n",
    "pet_list = [\"cat\", \"dog\", \"alligator\", \"snake\"]\n",
    "pet = [random.choice(pet_list) for i in range(1,15)]\n",
    "\n",
    "# Random weight of animal column\n",
    "weight = [random.choice(range(5,15)) for i in range(1,15)]\n",
    "\n",
    "# Random length of animals column\n",
    "length = [random.choice(range(1,10)) for i in range(1,15)]\n",
    "\n",
    "# random age of the animals column\n",
    "age = [random.choice(range(1,5)) for i in range(1,15)]\n",
    "\n",
    "# Put everyhting into a dataframe\n",
    "df = pd.DataFrame()\n",
    "df[\"animal\"] = pet\n",
    "df[\"age\"] = age\n",
    "df[\"weight\"] = weight\n",
    "df[\"length\"] = length\n",
    "\n",
    "#df"
   ]
  },
  {
   "attachments": {},
   "cell_type": "markdown",
   "metadata": {},
   "source": [
    "### Groupby a variable\n",
    "\n",
    "Groupby essentially splits the data into different groups *depending on a variable* (or more variables) of your choice. \n",
    "\n",
    "For example, the expression `df.groupby('animal')` splits the DataFrame by 'animal' category.\n",
    "\n",
    "The `groupby()` function returns a *GroupBy* object, but essentially describes how the rows of the original dataset has been split. \n",
    "\n",
    "In the GroupBy object `groups` variable is a dictionary whose keys are the unique groups and corresponding values being the axis labels belonging to each group."
   ]
  },
  {
   "cell_type": "code",
   "execution_count": 2,
   "metadata": {},
   "outputs": [
    {
     "name": "stdout",
     "output_type": "stream",
     "text": [
      "{'alligator': [2], 'cat': [0, 1, 6, 7, 9, 10, 11], 'dog': [3, 4, 5, 12, 13], 'snake': [8]}\n",
      "\n",
      "dict_keys(['alligator', 'cat', 'dog', 'snake'])\n"
     ]
    }
   ],
   "source": [
    "animal_groups = df.groupby('animal') # Group by animal category\n",
    "\n",
    "print( animal_groups.groups, end='\\n\\n')\n",
    "\n",
    "print( animal_groups.groups.keys())"
   ]
  },
  {
   "attachments": {},
   "cell_type": "markdown",
   "metadata": {},
   "source": [
    "--- \n",
    "## Exercise: Implements your own GroupBy\n",
    "\n",
    "In the rest of your life you are going to use GroupBy implemented in some library, but in this exercise we will implement our own simplified version. \n",
    "\n",
    "You are give a list of tuples, all with the same number of components. In our simplified implementation  of a pandas' DataFrame each tuple in the list is a row of the DataFrame. Each component of a tuple is a value of a column.\n",
    "\n",
    "#### Part I\n",
    "Our first goal is to implement an index to efficiently group by one of the component in the list. \n",
    "\n",
    "We'd like to implement a function ```groupBy(L, id)``` which takes the list of tuples ```L``` and the ```id``` of the component and returns a dictionary. The dictionary is an index very similar to what you implemented for a search engine. \n",
    "We have a key for each distinct value in column ```id```. The value of a certain key ```k``` is the list of indexes of all the tuple having value ```k``` in the column ```id```.\n",
    "This means that, if index ```p``` is in the list of key ```k```, then ```L[p][id] = k```.\n",
    "\n",
    "For example it we have tuples \n",
    "\n",
    "|   | \n",
    "|:-|\n",
    "(1, 5, 11)\n",
    "(0, 4, 1000)\n",
    "(1, 2, 11)\n",
    "(1, 4, 66) \n",
    "(0, 3, 99)\n",
    "\n",
    "The groupBy with id=0 will group by first column.\n",
    "\n",
    "The index is\n",
    "\n",
    "|   | \n",
    "|:--| \n",
    "0: [1, 4]\n",
    "1: [0, 2, 3]\n",
    " \n",
    "#### Part II\n",
    "We'd like to implement a function ```max_groupBy(index, L)``` which takes the index built in previous part on list ```L``` and returns a dictionary. \n",
    "We have a key for each distinct value in column ```id```. The value of a certain key ```k``` is the list. The list has a element for each column: the maximum value in that column for each tuple having value ```k``` in the column ```id```. This, of course, must be implemented by using the index.\n",
    "\n",
    "In the example before, we would obtain the dictionary\n",
    "\n",
    "|   | \n",
    "|:--| \n",
    "0: [0, 4, 1000]\n",
    "1: [1, 5, 66]\n",
    " \n"
   ]
  },
  {
   "cell_type": "code",
   "execution_count": 3,
   "metadata": {},
   "outputs": [],
   "source": [
    "def groupBy(L, id):\n",
    "    index = {}\n",
    "    for i, tup in enumerate(L):\n",
    "        if tup[id] not in index:\n",
    "            index[tup[id]] = []\n",
    "        index[tup[id]].append(i)\n",
    "    return index\n",
    "\n",
    "def max_groupBy(index, L):\n",
    "    max_vals = {}\n",
    "    for key, value in index.items():\n",
    "        max_vals[key] = [0]*len(L[0]) # gives an array of the same len of the one that we are analyzing\n",
    "        for i in value:\n",
    "            for j in range(len(L[0])):\n",
    "                if L[i][j] > max_vals[key][j]:\n",
    "                    max_vals[key][j] = L[i][j]\n",
    "    return max_vals"
   ]
  },
  {
   "attachments": {},
   "cell_type": "markdown",
   "metadata": {},
   "source": [
    "**groupBy(L, id)** takes a list of tuples 'L' and an integer 'id' indicating the index of the item we want to group by. It returns a dictionary where each key is an item in the 'id' column of 'L', and the value is a list of indices of L where that item appears.\n",
    "\n",
    "**max_groupBy(index, L)** takes the dictionary returned by groupBy and the original list of tuples 'L'.\n",
    "It returns a new dictionary where each key is an item in the 'id' column of 'L', and the value is a list of the maximum values for each column in the subset of 'L' corresponding to that key."
   ]
  },
  {
   "cell_type": "code",
   "execution_count": 4,
   "metadata": {},
   "outputs": [
    {
     "name": "stdout",
     "output_type": "stream",
     "text": [
      "groupBy function: {1: [0, 2, 3], 0: [1, 4]}\n",
      "maxgroupBy function: {1: [1, 5, 66], 0: [0, 4, 1000]}\n"
     ]
    }
   ],
   "source": [
    "data = [(1, 5, 11), (0, 4, 1000), (1, 2, 11), (1, 4, 66), (0, 3, 99)]\n",
    "\n",
    "print(f\"groupBy function: {groupBy(data, 0)}\") # check on the first function\n",
    "\n",
    "idx = groupBy(data, 0)\n",
    "print(f\"maxgroupBy function: {max_groupBy(idx, data)}\")"
   ]
  }
 ],
 "metadata": {
  "kernelspec": {
   "display_name": "Python 3 (ipykernel)",
   "language": "python",
   "name": "python3"
  },
  "language_info": {
   "codemirror_mode": {
    "name": "ipython",
    "version": 3
   },
   "file_extension": ".py",
   "mimetype": "text/x-python",
   "name": "python",
   "nbconvert_exporter": "python",
   "pygments_lexer": "ipython3",
   "version": "3.8.15"
  },
  "latex_envs": {
   "LaTeX_envs_menu_present": true,
   "autoclose": false,
   "autocomplete": true,
   "bibliofile": "biblio.bib",
   "cite_by": "apalike",
   "current_citInitial": 1,
   "eqLabelWithNumbers": true,
   "eqNumInitial": 1,
   "hotkeys": {
    "equation": "Ctrl-E",
    "itemize": "Ctrl-I"
   },
   "labels_anchors": false,
   "latex_user_defs": false,
   "report_style_numbering": false,
   "user_envs_cfg": false
  },
  "varInspector": {
   "cols": {
    "lenName": 16,
    "lenType": 16,
    "lenVar": 40
   },
   "kernels_config": {
    "python": {
     "delete_cmd_postfix": "",
     "delete_cmd_prefix": "del ",
     "library": "var_list.py",
     "varRefreshCmd": "print(var_dic_list())"
    },
    "r": {
     "delete_cmd_postfix": ") ",
     "delete_cmd_prefix": "rm(",
     "library": "var_list.r",
     "varRefreshCmd": "cat(var_dic_list()) "
    }
   },
   "types_to_exclude": [
    "module",
    "function",
    "builtin_function_or_method",
    "instance",
    "_Feature"
   ],
   "window_display": false
  }
 },
 "nbformat": 4,
 "nbformat_minor": 2
}
